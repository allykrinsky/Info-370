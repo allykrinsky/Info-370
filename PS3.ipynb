{
 "cells": [
  {
   "cell_type": "code",
   "execution_count": 15,
   "metadata": {},
   "outputs": [],
   "source": [
    "import numpy as np\n",
    "import pandas as pd\n",
    "from datetime import datetime"
   ]
  },
  {
   "cell_type": "markdown",
   "metadata": {},
   "source": [
    "# Part 1"
   ]
  },
  {
   "cell_type": "markdown",
   "metadata": {},
   "source": [
    "1. Yes these variables are values that are comparable becasue they are numerical, as opposed to being ordinal or nominal."
   ]
  },
  {
   "cell_type": "code",
   "execution_count": 7,
   "metadata": {},
   "outputs": [
    {
     "data": {
      "text/html": [
       "<div>\n",
       "<style scoped>\n",
       "    .dataframe tbody tr th:only-of-type {\n",
       "        vertical-align: middle;\n",
       "    }\n",
       "\n",
       "    .dataframe tbody tr th {\n",
       "        vertical-align: top;\n",
       "    }\n",
       "\n",
       "    .dataframe thead th {\n",
       "        text-align: right;\n",
       "    }\n",
       "</style>\n",
       "<table border=\"1\" class=\"dataframe\">\n",
       "  <thead>\n",
       "    <tr style=\"text-align: right;\">\n",
       "      <th></th>\n",
       "      <th>Year</th>\n",
       "      <th>Mo</th>\n",
       "      <th>Globe</th>\n",
       "      <th>Land</th>\n",
       "      <th>Ocean</th>\n",
       "      <th>NH</th>\n",
       "      <th>NHLand</th>\n",
       "      <th>NHOcean</th>\n",
       "      <th>SH</th>\n",
       "      <th>SHLand</th>\n",
       "      <th>...</th>\n",
       "      <th>SoExtOcean</th>\n",
       "      <th>NoPol</th>\n",
       "      <th>NoPolLand</th>\n",
       "      <th>NoPolOcean</th>\n",
       "      <th>SoPol</th>\n",
       "      <th>SoPolLand</th>\n",
       "      <th>SoPolOcean</th>\n",
       "      <th>USA48</th>\n",
       "      <th>USA49</th>\n",
       "      <th>AUST</th>\n",
       "    </tr>\n",
       "  </thead>\n",
       "  <tbody>\n",
       "    <tr>\n",
       "      <th>0</th>\n",
       "      <td>1978</td>\n",
       "      <td>12</td>\n",
       "      <td>-0.36</td>\n",
       "      <td>-0.36</td>\n",
       "      <td>-0.36</td>\n",
       "      <td>-0.31</td>\n",
       "      <td>-0.30</td>\n",
       "      <td>-0.32</td>\n",
       "      <td>-0.41</td>\n",
       "      <td>-0.49</td>\n",
       "      <td>...</td>\n",
       "      <td>-0.36</td>\n",
       "      <td>-0.24</td>\n",
       "      <td>-0.55</td>\n",
       "      <td>0.12</td>\n",
       "      <td>-0.35</td>\n",
       "      <td>-0.21</td>\n",
       "      <td>-0.42</td>\n",
       "      <td>-1.03</td>\n",
       "      <td>-0.94</td>\n",
       "      <td>-1.19</td>\n",
       "    </tr>\n",
       "    <tr>\n",
       "      <th>1</th>\n",
       "      <td>1979</td>\n",
       "      <td>1</td>\n",
       "      <td>-0.33</td>\n",
       "      <td>-0.48</td>\n",
       "      <td>-0.27</td>\n",
       "      <td>-0.48</td>\n",
       "      <td>-0.69</td>\n",
       "      <td>-0.35</td>\n",
       "      <td>-0.18</td>\n",
       "      <td>-0.00</td>\n",
       "      <td>...</td>\n",
       "      <td>-0.15</td>\n",
       "      <td>-0.11</td>\n",
       "      <td>-0.65</td>\n",
       "      <td>0.51</td>\n",
       "      <td>-0.11</td>\n",
       "      <td>-0.08</td>\n",
       "      <td>-0.12</td>\n",
       "      <td>-3.07</td>\n",
       "      <td>-2.25</td>\n",
       "      <td>1.16</td>\n",
       "    </tr>\n",
       "    <tr>\n",
       "      <th>2</th>\n",
       "      <td>1979</td>\n",
       "      <td>2</td>\n",
       "      <td>-0.27</td>\n",
       "      <td>-0.35</td>\n",
       "      <td>-0.24</td>\n",
       "      <td>-0.25</td>\n",
       "      <td>-0.32</td>\n",
       "      <td>-0.21</td>\n",
       "      <td>-0.29</td>\n",
       "      <td>-0.41</td>\n",
       "      <td>...</td>\n",
       "      <td>-0.27</td>\n",
       "      <td>-1.71</td>\n",
       "      <td>-2.06</td>\n",
       "      <td>-1.32</td>\n",
       "      <td>-0.68</td>\n",
       "      <td>-1.09</td>\n",
       "      <td>-0.49</td>\n",
       "      <td>-1.55</td>\n",
       "      <td>-1.59</td>\n",
       "      <td>-0.20</td>\n",
       "    </tr>\n",
       "    <tr>\n",
       "      <th>3</th>\n",
       "      <td>1979</td>\n",
       "      <td>3</td>\n",
       "      <td>-0.26</td>\n",
       "      <td>-0.31</td>\n",
       "      <td>-0.24</td>\n",
       "      <td>-0.28</td>\n",
       "      <td>-0.25</td>\n",
       "      <td>-0.29</td>\n",
       "      <td>-0.24</td>\n",
       "      <td>-0.44</td>\n",
       "      <td>...</td>\n",
       "      <td>-0.16</td>\n",
       "      <td>-0.32</td>\n",
       "      <td>-0.26</td>\n",
       "      <td>-0.39</td>\n",
       "      <td>-0.47</td>\n",
       "      <td>-1.20</td>\n",
       "      <td>-0.13</td>\n",
       "      <td>-0.43</td>\n",
       "      <td>-0.15</td>\n",
       "      <td>0.42</td>\n",
       "    </tr>\n",
       "    <tr>\n",
       "      <th>4</th>\n",
       "      <td>1979</td>\n",
       "      <td>4</td>\n",
       "      <td>-0.28</td>\n",
       "      <td>-0.40</td>\n",
       "      <td>-0.24</td>\n",
       "      <td>-0.31</td>\n",
       "      <td>-0.44</td>\n",
       "      <td>-0.23</td>\n",
       "      <td>-0.26</td>\n",
       "      <td>-0.32</td>\n",
       "      <td>...</td>\n",
       "      <td>-0.26</td>\n",
       "      <td>-0.44</td>\n",
       "      <td>-0.45</td>\n",
       "      <td>-0.42</td>\n",
       "      <td>-0.18</td>\n",
       "      <td>0.42</td>\n",
       "      <td>-0.46</td>\n",
       "      <td>-0.61</td>\n",
       "      <td>-0.28</td>\n",
       "      <td>-0.93</td>\n",
       "    </tr>\n",
       "    <tr>\n",
       "      <th>...</th>\n",
       "      <td>...</td>\n",
       "      <td>...</td>\n",
       "      <td>...</td>\n",
       "      <td>...</td>\n",
       "      <td>...</td>\n",
       "      <td>...</td>\n",
       "      <td>...</td>\n",
       "      <td>...</td>\n",
       "      <td>...</td>\n",
       "      <td>...</td>\n",
       "      <td>...</td>\n",
       "      <td>...</td>\n",
       "      <td>...</td>\n",
       "      <td>...</td>\n",
       "      <td>...</td>\n",
       "      <td>...</td>\n",
       "      <td>...</td>\n",
       "      <td>...</td>\n",
       "      <td>...</td>\n",
       "      <td>...</td>\n",
       "      <td>...</td>\n",
       "    </tr>\n",
       "    <tr>\n",
       "      <th>497</th>\n",
       "      <td>2020</td>\n",
       "      <td>5</td>\n",
       "      <td>0.54</td>\n",
       "      <td>0.63</td>\n",
       "      <td>0.51</td>\n",
       "      <td>0.60</td>\n",
       "      <td>0.60</td>\n",
       "      <td>0.59</td>\n",
       "      <td>0.49</td>\n",
       "      <td>0.69</td>\n",
       "      <td>...</td>\n",
       "      <td>0.33</td>\n",
       "      <td>1.15</td>\n",
       "      <td>1.17</td>\n",
       "      <td>1.14</td>\n",
       "      <td>0.52</td>\n",
       "      <td>1.23</td>\n",
       "      <td>0.19</td>\n",
       "      <td>0.17</td>\n",
       "      <td>0.38</td>\n",
       "      <td>-0.15</td>\n",
       "    </tr>\n",
       "    <tr>\n",
       "      <th>498</th>\n",
       "      <td>2020</td>\n",
       "      <td>6</td>\n",
       "      <td>0.43</td>\n",
       "      <td>0.49</td>\n",
       "      <td>0.41</td>\n",
       "      <td>0.45</td>\n",
       "      <td>0.44</td>\n",
       "      <td>0.46</td>\n",
       "      <td>0.41</td>\n",
       "      <td>0.61</td>\n",
       "      <td>...</td>\n",
       "      <td>0.34</td>\n",
       "      <td>0.80</td>\n",
       "      <td>0.82</td>\n",
       "      <td>0.78</td>\n",
       "      <td>-0.26</td>\n",
       "      <td>-0.22</td>\n",
       "      <td>-0.28</td>\n",
       "      <td>0.38</td>\n",
       "      <td>0.25</td>\n",
       "      <td>1.20</td>\n",
       "    </tr>\n",
       "    <tr>\n",
       "      <th>499</th>\n",
       "      <td>2020</td>\n",
       "      <td>7</td>\n",
       "      <td>0.44</td>\n",
       "      <td>0.51</td>\n",
       "      <td>0.41</td>\n",
       "      <td>0.45</td>\n",
       "      <td>0.36</td>\n",
       "      <td>0.51</td>\n",
       "      <td>0.42</td>\n",
       "      <td>0.84</td>\n",
       "      <td>...</td>\n",
       "      <td>0.27</td>\n",
       "      <td>0.39</td>\n",
       "      <td>0.21</td>\n",
       "      <td>0.61</td>\n",
       "      <td>0.51</td>\n",
       "      <td>1.11</td>\n",
       "      <td>0.22</td>\n",
       "      <td>0.56</td>\n",
       "      <td>0.43</td>\n",
       "      <td>0.66</td>\n",
       "    </tr>\n",
       "    <tr>\n",
       "      <th>500</th>\n",
       "      <td>2020</td>\n",
       "      <td>8</td>\n",
       "      <td>0.43</td>\n",
       "      <td>0.47</td>\n",
       "      <td>0.41</td>\n",
       "      <td>0.47</td>\n",
       "      <td>0.46</td>\n",
       "      <td>0.47</td>\n",
       "      <td>0.38</td>\n",
       "      <td>0.49</td>\n",
       "      <td>...</td>\n",
       "      <td>0.24</td>\n",
       "      <td>0.47</td>\n",
       "      <td>0.36</td>\n",
       "      <td>0.60</td>\n",
       "      <td>-0.58</td>\n",
       "      <td>-0.14</td>\n",
       "      <td>-0.79</td>\n",
       "      <td>0.41</td>\n",
       "      <td>0.30</td>\n",
       "      <td>0.49</td>\n",
       "    </tr>\n",
       "    <tr>\n",
       "      <th>501</th>\n",
       "      <td>2020</td>\n",
       "      <td>9</td>\n",
       "      <td>0.57</td>\n",
       "      <td>0.75</td>\n",
       "      <td>0.50</td>\n",
       "      <td>0.58</td>\n",
       "      <td>0.69</td>\n",
       "      <td>0.51</td>\n",
       "      <td>0.56</td>\n",
       "      <td>0.88</td>\n",
       "      <td>...</td>\n",
       "      <td>0.51</td>\n",
       "      <td>0.48</td>\n",
       "      <td>0.67</td>\n",
       "      <td>0.25</td>\n",
       "      <td>0.40</td>\n",
       "      <td>1.02</td>\n",
       "      <td>0.11</td>\n",
       "      <td>0.97</td>\n",
       "      <td>0.86</td>\n",
       "      <td>0.92</td>\n",
       "    </tr>\n",
       "  </tbody>\n",
       "</table>\n",
       "<p>502 rows × 29 columns</p>\n",
       "</div>"
      ],
      "text/plain": [
       "     Year  Mo  Globe  Land  Ocean    NH  NHLand  NHOcean    SH  SHLand  ...  \\\n",
       "0    1978  12  -0.36 -0.36  -0.36 -0.31   -0.30    -0.32 -0.41   -0.49  ...   \n",
       "1    1979   1  -0.33 -0.48  -0.27 -0.48   -0.69    -0.35 -0.18   -0.00  ...   \n",
       "2    1979   2  -0.27 -0.35  -0.24 -0.25   -0.32    -0.21 -0.29   -0.41  ...   \n",
       "3    1979   3  -0.26 -0.31  -0.24 -0.28   -0.25    -0.29 -0.24   -0.44  ...   \n",
       "4    1979   4  -0.28 -0.40  -0.24 -0.31   -0.44    -0.23 -0.26   -0.32  ...   \n",
       "..    ...  ..    ...   ...    ...   ...     ...      ...   ...     ...  ...   \n",
       "497  2020   5   0.54  0.63   0.51  0.60    0.60     0.59  0.49    0.69  ...   \n",
       "498  2020   6   0.43  0.49   0.41  0.45    0.44     0.46  0.41    0.61  ...   \n",
       "499  2020   7   0.44  0.51   0.41  0.45    0.36     0.51  0.42    0.84  ...   \n",
       "500  2020   8   0.43  0.47   0.41  0.47    0.46     0.47  0.38    0.49  ...   \n",
       "501  2020   9   0.57  0.75   0.50  0.58    0.69     0.51  0.56    0.88  ...   \n",
       "\n",
       "     SoExtOcean  NoPol  NoPolLand  NoPolOcean  SoPol  SoPolLand  SoPolOcean  \\\n",
       "0         -0.36  -0.24      -0.55        0.12  -0.35      -0.21       -0.42   \n",
       "1         -0.15  -0.11      -0.65        0.51  -0.11      -0.08       -0.12   \n",
       "2         -0.27  -1.71      -2.06       -1.32  -0.68      -1.09       -0.49   \n",
       "3         -0.16  -0.32      -0.26       -0.39  -0.47      -1.20       -0.13   \n",
       "4         -0.26  -0.44      -0.45       -0.42  -0.18       0.42       -0.46   \n",
       "..          ...    ...        ...         ...    ...        ...         ...   \n",
       "497        0.33   1.15       1.17        1.14   0.52       1.23        0.19   \n",
       "498        0.34   0.80       0.82        0.78  -0.26      -0.22       -0.28   \n",
       "499        0.27   0.39       0.21        0.61   0.51       1.11        0.22   \n",
       "500        0.24   0.47       0.36        0.60  -0.58      -0.14       -0.79   \n",
       "501        0.51   0.48       0.67        0.25   0.40       1.02        0.11   \n",
       "\n",
       "     USA48  USA49  AUST  \n",
       "0    -1.03  -0.94 -1.19  \n",
       "1    -3.07  -2.25  1.16  \n",
       "2    -1.55  -1.59 -0.20  \n",
       "3    -0.43  -0.15  0.42  \n",
       "4    -0.61  -0.28 -0.93  \n",
       "..     ...    ...   ...  \n",
       "497   0.17   0.38 -0.15  \n",
       "498   0.38   0.25  1.20  \n",
       "499   0.56   0.43  0.66  \n",
       "500   0.41   0.30  0.49  \n",
       "501   0.97   0.86  0.92  \n",
       "\n",
       "[502 rows x 29 columns]"
      ]
     },
     "execution_count": 7,
     "metadata": {},
     "output_type": "execute_result"
    }
   ],
   "source": [
    "df = pd.read_csv('data/PS3.csv', delim_whitespace=True)\n",
    "df"
   ]
  },
  {
   "cell_type": "code",
   "execution_count": 45,
   "metadata": {},
   "outputs": [
    {
     "data": {
      "text/plain": [
       "0      1979.000000\n",
       "1      1979.083333\n",
       "2      1979.166667\n",
       "3      1979.250000\n",
       "4      1979.333333\n",
       "          ...     \n",
       "497    2020.416667\n",
       "498    2020.500000\n",
       "499    2020.583333\n",
       "500    2020.666667\n",
       "501    2020.750000\n",
       "Name: date, Length: 502, dtype: float64"
      ]
     },
     "execution_count": 45,
     "metadata": {},
     "output_type": "execute_result"
    }
   ],
   "source": [
    "df['date'] = df.Year + df.Mo / 12\n",
    "df['date']"
   ]
  },
  {
   "cell_type": "code",
   "execution_count": 26,
   "metadata": {},
   "outputs": [],
   "source": [
    "import matplotlib.pyplot as plt"
   ]
  },
  {
   "cell_type": "code",
   "execution_count": 46,
   "metadata": {},
   "outputs": [
    {
     "data": {
      "image/png": "[encoded data removed]",
      "text/plain": [
       "<Figure size 432x288 with 1 Axes>"
      ]
     },
     "metadata": {
      "needs_background": "light"
     },
     "output_type": "display_data"
    }
   ],
   "source": [
    "plt.plot(df.date, df.Globe)\n",
    "plt.xlabel('Year')\n",
    "plt.ylabel('Globe')\n",
    "plt.show()"
   ]
  },
  {
   "cell_type": "markdown",
   "metadata": {},
   "source": [
    "3. In this chart, I plotted the date and globe columns. You can see that the trend is increasing overtime "
   ]
  },
  {
   "cell_type": "code",
   "execution_count": 172,
   "metadata": {},
   "outputs": [
    {
     "data": {
      "image/png": "[encoded data removed]",
      "text/plain": [
       "<Figure size 432x288 with 1 Axes>"
      ]
     },
     "metadata": {
      "needs_background": "light"
     },
     "output_type": "display_data"
    }
   ],
   "source": [
    "avgs = df.groupby(by=df.Year).mean()\n",
    "_ = plt.plot(avgs.Globe)"
   ]
  },
  {
   "cell_type": "code",
   "execution_count": 173,
   "metadata": {},
   "outputs": [
    {
     "data": {
      "image/png": "[encoded data removed]",
      "text/plain": [
       "<Figure size 432x288 with 1 Axes>"
      ]
     },
     "metadata": {
      "needs_background": "light"
     },
     "output_type": "display_data"
    }
   ],
   "source": [
    "dec = df.groupby(by=df.Year//10).mean()\n",
    "_ = plt.plot(dec.Globe)"
   ]
  },
  {
   "cell_type": "markdown",
   "metadata": {},
   "source": [
    "The most consistent trend was seen in the decadal plot as it is stricly increasing linearly, whereas the other two had some ups and downs."
   ]
  },
  {
   "cell_type": "code",
   "execution_count": 175,
   "metadata": {},
   "outputs": [
    {
     "data": {
      "image/png": "[encoded data removed]",
      "text/plain": [
       "<Figure size 432x288 with 1 Axes>"
      ]
     },
     "metadata": {
      "needs_background": "light"
     },
     "output_type": "display_data"
    }
   ],
   "source": [
    "dec = df.groupby(by=df.Year//10).mean()\n",
    "_ = plt.plot(dec.NoPol, label= 'North Pole')\n",
    "_ = plt.plot(dec.SoPol, label= 'South Pole')\n",
    "_ = plt.legend()"
   ]
  },
  {
   "cell_type": "markdown",
   "metadata": {},
   "source": [
    "Both of the temperatures have increased over time. The current trend of the North Pole is decreasing and the South Pole is increasing in this current decade."
   ]
  },
  {
   "cell_type": "markdown",
   "metadata": {},
   "source": [
    "# Part 2"
   ]
  },
  {
   "cell_type": "code",
   "execution_count": 176,
   "metadata": {},
   "outputs": [],
   "source": [
    "N = 1000\n",
    "p = np.random.pareto(10, size=N)"
   ]
  },
  {
   "cell_type": "code",
   "execution_count": 177,
   "metadata": {},
   "outputs": [
    {
     "data": {
      "image/png": "[encoded data removed]",
      "text/plain": [
       "<Figure size 432x288 with 1 Axes>"
      ]
     },
     "metadata": {
      "needs_background": "light"
     },
     "output_type": "display_data"
    }
   ],
   "source": [
    "_ = plt.hist(p, edgecolor='w')"
   ]
  },
  {
   "cell_type": "markdown",
   "metadata": {},
   "source": [
    "This graph is skewed left as we expected"
   ]
  },
  {
   "cell_type": "code",
   "execution_count": 110,
   "metadata": {},
   "outputs": [
    {
     "data": {
      "text/plain": [
       "0.10950091499456914"
      ]
     },
     "execution_count": 110,
     "metadata": {},
     "output_type": "execute_result"
    }
   ],
   "source": [
    "act_mean = np.mean(p)\n",
    "act_mean"
   ]
  },
  {
   "cell_type": "code",
   "execution_count": 111,
   "metadata": {},
   "outputs": [
    {
     "data": {
      "text/plain": [
       "0.013368369978313517"
      ]
     },
     "execution_count": 111,
     "metadata": {},
     "output_type": "execute_result"
    }
   ],
   "source": [
    "act_var = np.var(p)\n",
    "act_var"
   ]
  },
  {
   "cell_type": "code",
   "execution_count": 112,
   "metadata": {},
   "outputs": [
    {
     "data": {
      "text/plain": [
       "0.1111111111111111"
      ]
     },
     "execution_count": 112,
     "metadata": {},
     "output_type": "execute_result"
    }
   ],
   "source": [
    "#theoretical mean\n",
    "theor_mean = 1 / (10-1)\n",
    "theor_mean"
   ]
  },
  {
   "cell_type": "code",
   "execution_count": 113,
   "metadata": {},
   "outputs": [
    {
     "data": {
      "text/plain": [
       "0.015432098765432098"
      ]
     },
     "execution_count": 113,
     "metadata": {},
     "output_type": "execute_result"
    }
   ],
   "source": [
    "#theoretical varience\n",
    "theor_var = 10 / ((10-1)*(10-1)*(10-2))\n",
    "theor_var"
   ]
  },
  {
   "cell_type": "code",
   "execution_count": 108,
   "metadata": {
    "scrolled": true
   },
   "outputs": [
    {
     "data": {
      "text/plain": [
       "-0.014491765048877683"
      ]
     },
     "execution_count": 108,
     "metadata": {},
     "output_type": "execute_result"
    }
   ],
   "source": [
    "#compare means\n",
    "((act_mean - theor_mean) / theor_mean)"
   ]
  },
  {
   "cell_type": "code",
   "execution_count": 109,
   "metadata": {},
   "outputs": [
    {
     "data": {
      "text/plain": [
       "-0.13372962540528407"
      ]
     },
     "execution_count": 109,
     "metadata": {},
     "output_type": "execute_result"
    }
   ],
   "source": [
    "#compare var\n",
    "((act_var - theor_var) / theor_var)"
   ]
  },
  {
   "cell_type": "code",
   "execution_count": 178,
   "metadata": {},
   "outputs": [
    {
     "data": {
      "image/png": "[encoded data removed]",
      "text/plain": [
       "<Figure size 432x288 with 1 Axes>"
      ]
     },
     "metadata": {
      "needs_background": "light"
     },
     "output_type": "display_data"
    }
   ],
   "source": [
    "p2 = np.random.pareto(10, size=(N,2))\n",
    "means = np.mean(p2, axis=1)\n",
    "_ = plt.hist(means, edgecolor='w')"
   ]
  },
  {
   "cell_type": "markdown",
   "metadata": {},
   "source": [
    "This follows the same pattern that our other pareto histogram follows on the whole. However, the y axis is a lot lower than than in a single pareto, which makes sense considering now we are averaging all values for each observation."
   ]
  },
  {
   "cell_type": "code",
   "execution_count": 145,
   "metadata": {},
   "outputs": [
    {
     "data": {
      "text/plain": [
       "0.10652093255560009"
      ]
     },
     "execution_count": 145,
     "metadata": {},
     "output_type": "execute_result"
    }
   ],
   "source": [
    "act_mean2 = np.mean(p2)\n",
    "act_mean2"
   ]
  },
  {
   "cell_type": "code",
   "execution_count": 146,
   "metadata": {},
   "outputs": [
    {
     "data": {
      "text/plain": [
       "0.014272875065046441"
      ]
     },
     "execution_count": 146,
     "metadata": {},
     "output_type": "execute_result"
    }
   ],
   "source": [
    "act_var2 = np.var(p2)\n",
    "act_var2"
   ]
  },
  {
   "cell_type": "code",
   "execution_count": 147,
   "metadata": {},
   "outputs": [
    {
     "data": {
      "text/plain": [
       "-0.0045901785555110125"
      ]
     },
     "execution_count": 147,
     "metadata": {},
     "output_type": "execute_result"
    }
   ],
   "source": [
    "#diff in means\n",
    "act_mean2 - theor_mean"
   ]
  },
  {
   "cell_type": "code",
   "execution_count": 148,
   "metadata": {},
   "outputs": [
    {
     "data": {
      "text/plain": [
       "0.006556825682330392"
      ]
     },
     "execution_count": 148,
     "metadata": {},
     "output_type": "execute_result"
    }
   ],
   "source": [
    "#diff in var\n",
    "act_var2 - theor_var/2"
   ]
  },
  {
   "cell_type": "code",
   "execution_count": 150,
   "metadata": {},
   "outputs": [
    {
     "data": {
      "image/png": "[encoded data removed]",
      "text/plain": [
       "<Figure size 432x288 with 1 Axes>"
      ]
     },
     "metadata": {
      "needs_background": "light"
     },
     "output_type": "display_data"
    }
   ],
   "source": [
    "p5 = np.random.pareto(10, size=(N,5))\n",
    "means = np.mean(p5, axis=1)\n",
    "_ = plt.hist(means, edgecolor='w')"
   ]
  },
  {
   "cell_type": "markdown",
   "metadata": {},
   "source": [
    "This histogram is starting to shift away from its heavy left skew to become more normalized."
   ]
  },
  {
   "cell_type": "code",
   "execution_count": 151,
   "metadata": {},
   "outputs": [
    {
     "data": {
      "image/png": "[encoded data removed]",
      "text/plain": [
       "<Figure size 432x288 with 1 Axes>"
      ]
     },
     "metadata": {
      "needs_background": "light"
     },
     "output_type": "display_data"
    }
   ],
   "source": [
    "p25 = np.random.pareto(10, size=(N,25))\n",
    "means = np.mean(p25, axis=1)\n",
    "_ = plt.hist(means, edgecolor='w')"
   ]
  },
  {
   "cell_type": "code",
   "execution_count": 152,
   "metadata": {},
   "outputs": [
    {
     "data": {
      "image/png": "[encoded data removed]",
      "text/plain": [
       "<Figure size 432x288 with 1 Axes>"
      ]
     },
     "metadata": {
      "needs_background": "light"
     },
     "output_type": "display_data"
    }
   ],
   "source": [
    "p1000 = np.random.pareto(10, size=(N,1000))\n",
    "means = np.mean(p1000, axis=1)\n",
    "_ = plt.hist(means, edgecolor='w')"
   ]
  },
  {
   "cell_type": "markdown",
   "metadata": {},
   "source": [
    "The greater number of tuples shifts the histogram to look more like a standard normal distribution."
   ]
  },
  {
   "cell_type": "code",
   "execution_count": 156,
   "metadata": {},
   "outputs": [
    {
     "data": {
      "text/plain": [
       "array([ 1, -1, -1, -1,  1, -1, -1,  1,  1,  1,  1, -1,  1,  1, -1, -1,  1,\n",
       "       -1,  1, -1,  1,  1, -1, -1,  1,  1,  1,  1, -1,  1, -1, -1,  1, -1,\n",
       "        1,  1, -1,  1,  1,  1,  1,  1,  1,  1, -1,  1,  1,  1, -1, -1,  1,\n",
       "       -1,  1,  1, -1,  1, -1,  1, -1,  1,  1,  1,  1, -1, -1, -1, -1,  1,\n",
       "       -1,  1,  1,  1, -1,  1,  1, -1, -1, -1,  1, -1,  1, -1, -1, -1, -1,\n",
       "       -1,  1, -1, -1, -1,  1,  1, -1,  1, -1, -1, -1,  1,  1, -1])"
      ]
     },
     "execution_count": 156,
     "metadata": {},
     "output_type": "execute_result"
    }
   ],
   "source": [
    "RV = np.random.randint(0,2, size=100)*2 - 1\n",
    "RV"
   ]
  },
  {
   "cell_type": "code",
   "execution_count": 158,
   "metadata": {},
   "outputs": [
    {
     "data": {
      "text/plain": [
       "0.0"
      ]
     },
     "execution_count": 158,
     "metadata": {},
     "output_type": "execute_result"
    }
   ],
   "source": [
    "EX = 1 * .5 + -1 * .5\n",
    "EX"
   ]
  },
  {
   "cell_type": "code",
   "execution_count": 161,
   "metadata": {},
   "outputs": [
    {
     "data": {
      "text/plain": [
       "1.0"
      ]
     },
     "execution_count": 161,
     "metadata": {},
     "output_type": "execute_result"
    }
   ],
   "source": [
    "VarX = (1-0)*(1-0)*.5 + (-1-0)*(-1-0)*.5\n",
    "VarX"
   ]
  },
  {
   "cell_type": "code",
   "execution_count": 167,
   "metadata": {},
   "outputs": [
    {
     "data": {
      "image/png": "[encoded data removed]",
      "text/plain": [
       "<Figure size 432x288 with 1 Axes>"
      ]
     },
     "metadata": {
      "needs_background": "light"
     },
     "output_type": "display_data"
    }
   ],
   "source": [
    "rv2 = np.random.randint(0,2, size=(100,2))*2 - 1\n",
    "means = np.mean(rv2, axis=1)\n",
    "_ = plt.hist(means, edgecolor='w')"
   ]
  },
  {
   "cell_type": "code",
   "execution_count": 168,
   "metadata": {},
   "outputs": [
    {
     "data": {
      "image/png": "[encoded data removed]",
      "text/plain": [
       "<Figure size 432x288 with 1 Axes>"
      ]
     },
     "metadata": {
      "needs_background": "light"
     },
     "output_type": "display_data"
    }
   ],
   "source": [
    "rv5 = np.random.randint(0,2, size=(100,5))*2 - 1\n",
    "means = np.mean(rv5, axis=1)\n",
    "_ = plt.hist(means, edgecolor='w')"
   ]
  },
  {
   "cell_type": "code",
   "execution_count": 169,
   "metadata": {},
   "outputs": [
    {
     "data": {
      "image/png": "[encoded data removed]",
      "text/plain": [
       "<Figure size 432x288 with 1 Axes>"
      ]
     },
     "metadata": {
      "needs_background": "light"
     },
     "output_type": "display_data"
    }
   ],
   "source": [
    "rv25 = np.random.randint(0,2, size=(100,25))*2 - 1\n",
    "means = np.mean(rv25, axis=1)\n",
    "_ = plt.hist(means, edgecolor='w')"
   ]
  },
  {
   "cell_type": "code",
   "execution_count": 170,
   "metadata": {},
   "outputs": [
    {
     "data": {
      "image/png": "[encoded data removed]",
      "text/plain": [
       "<Figure size 432x288 with 1 Axes>"
      ]
     },
     "metadata": {
      "needs_background": "light"
     },
     "output_type": "display_data"
    }
   ],
   "source": [
    "rv1000 = np.random.randint(0,2, size=(100,1000))*2 - 1\n",
    "means = np.mean(rv1000, axis=1)\n",
    "_ = plt.hist(means, edgecolor='w')"
   ]
  },
  {
   "cell_type": "markdown",
   "metadata": {},
   "source": [
    "Since the probability of getting any option is .5, there is a high chance of the average of each pair as zero. As we add more pairs the rest of the middle options fill in the inner bins of the histogram."
   ]
  },
  {
   "cell_type": "markdown",
   "metadata": {},
   "source": [
    "This assignment took me about 3 hours."
   ]
  },
  {
   "cell_type": "code",
   "execution_count": null,
   "metadata": {},
   "outputs": [],
   "source": []
  }
 ],
 "metadata": {
  "kernelspec": {
   "display_name": "Python 3",
   "language": "python",
   "name": "python3"
  },
  "language_info": {
   "codemirror_mode": {
    "name": "ipython",
    "version": 3
   },
   "file_extension": ".py",
   "mimetype": "text/x-python",
   "name": "python",
   "nbconvert_exporter": "python",
   "pygments_lexer": "ipython3",
   "version": "3.7.7"
  }
 },
 "nbformat": 4,
 "nbformat_minor": 4
}
