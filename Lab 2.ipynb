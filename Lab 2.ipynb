{
 "cells": [
  {
   "cell_type": "markdown",
   "metadata": {},
   "source": [
    "# INFO 370 2020 S - Python Basics\n",
    "\n",
    "*Name:* \n",
    "\n",
    "*Collaborators:*"
   ]
  },
  {
   "cell_type": "markdown",
   "metadata": {},
   "source": [
    "### Instructions\n",
    "\n",
    "1. Please complete the lab tutorial during your respective lab session.\n",
    "\n",
    "2. Please write down your name and your collaborators (if any).\n",
    "\n",
    "3. This lab asks you to play with basic python, in particular with lists and dicts.  This is based on the Lubanovic \"Introduction to python\" book.  For a quick review, consult the [python notes](https://otoomet.bitbucket.io/machinelearning-py.html)\n",
    "\n",
    "5. For each question, please type your codes in a *Code* cell and your written response (if any) which summarizes your results in a *Markdown* cell.\n",
    "\n",
    "5. Unlike all the following labs/problem sets, it is here you can explain and interpret.  It is mostly just code.\n",
    "\n",
    "6. Don't be scared. We are here to help you learn. :)"
   ]
  },
  {
   "cell_type": "markdown",
   "metadata": {},
   "source": [
    "## 1. Lists"
   ]
  },
  {
   "cell_type": "markdown",
   "metadata": {},
   "source": [
    "### 1.1.  Create a list\n",
    "\n",
    "Create a list _alphabet_ of lower case letters (minimum 10 letters).  Print your list."
   ]
  },
  {
   "cell_type": "code",
   "execution_count": 1,
   "metadata": {},
   "outputs": [
    {
     "name": "stdout",
     "output_type": "stream",
     "text": [
      "['a', 'b', 'c', 'd', 'e', 'f', 'g', 'h', 'i', 'j']\n"
     ]
    }
   ],
   "source": [
    "# Your codes here\n",
    "l = ['a', 'b', 'c', 'd', 'e', 'f', 'g', 'h', 'i', 'j']\n",
    "print(l)"
   ]
  },
  {
   "cell_type": "markdown",
   "metadata": {},
   "source": [
    "### 1.2 Delete elements\n",
    "\n",
    "Delete the first three letters of _alphabet_.  Print the list"
   ]
  },
  {
   "cell_type": "code",
   "execution_count": 2,
   "metadata": {},
   "outputs": [
    {
     "name": "stdout",
     "output_type": "stream",
     "text": [
      "['c', 'd', 'e', 'f', 'g', 'h', 'i', 'j']\n"
     ]
    }
   ],
   "source": [
    "# Your codes here\n",
    "del l[0:2]\n",
    "print(l)"
   ]
  },
  {
   "cell_type": "markdown",
   "metadata": {},
   "source": [
    "### 1.3 List comprehension\n",
    "\n",
    "Use list comprehension to convert the letters in your truncated alphabet to upper case.\n",
    "\n",
    "Hint: find a method to convert strings to upper case!"
   ]
  },
  {
   "cell_type": "code",
   "execution_count": 15,
   "metadata": {},
   "outputs": [
    {
     "name": "stdout",
     "output_type": "stream",
     "text": [
      "['C', 'D', 'E', 'F', 'G', 'H', 'I', 'J']\n"
     ]
    }
   ],
   "source": [
    "# Your codes here\n",
    "for i, val in enumerate(l):\n",
    "   l[i] = val.upper()\n",
    "print(l)"
   ]
  },
  {
   "cell_type": "markdown",
   "metadata": {},
   "source": [
    "### 1.4 Nested lists\n",
    "\n",
    "One can create repeat elements in a list by the repeat operator `*`, e.g. `[\"a\"]*5` will give ` ['a', 'a', 'a', 'a', 'a']`.  Use the repeat operator and list comprehension to create a nested list\n",
    "\n",
    "`[[1], [2, 2], [3, 3, 3], [4, 4, 4, 4], [5, 5, 5, 5, 5]]`"
   ]
  },
  {
   "cell_type": "code",
   "execution_count": 26,
   "metadata": {},
   "outputs": [
    {
     "name": "stdout",
     "output_type": "stream",
     "text": [
      "[['1'], ['22'], ['333'], ['4444'], ['55555']]\n"
     ]
    }
   ],
   "source": [
    "# Your codes here\n",
    "ls = []\n",
    "for i in range(1, 6):\n",
    "    st = str(i)\n",
    "    nest = [st*i]\n",
    "    ls.append(nest)\n",
    "print(ls)"
   ]
  },
  {
   "cell_type": "markdown",
   "metadata": {},
   "source": [
    "## 2. Dicts"
   ]
  },
  {
   "cell_type": "markdown",
   "metadata": {},
   "source": [
    "### 2.1 Create a country-capital list\n",
    "\n",
    "Create a list of country-capital, e.g. _Kenya_: _Nairobi_, _Cameroon_: _Yaoundé_, ..."
   ]
  },
  {
   "cell_type": "code",
   "execution_count": 40,
   "metadata": {},
   "outputs": [
    {
     "data": {
      "text/plain": [
       "{'Kenya': 'Nairobi', 'Cameroon': 'Yaounde', 'USA': 'Washington D.C.'}"
      ]
     },
     "execution_count": 40,
     "metadata": {},
     "output_type": "execute_result"
    }
   ],
   "source": [
    "# Your codes here\n",
    "a = {'Kenya': 'Nairobi', 'Cameroon': 'Yaounde', 'USA': 'Washington D.C.'}\n",
    "a"
   ]
  },
  {
   "cell_type": "markdown",
   "metadata": {},
   "source": [
    "### 2.2 Reverse the dict\n",
    "\n",
    "Transform the original dict into a capital-country one, e.g. _Nairobi_:_Kenya_, _Yanoundé_:_Cameroon_, ..."
   ]
  },
  {
   "cell_type": "code",
   "execution_count": 41,
   "metadata": {},
   "outputs": [
    {
     "data": {
      "text/plain": [
       "{'Nairobi': 'Kenya', 'Yaounde': 'Cameroon', 'Washington D.C.': 'USA'}"
      ]
     },
     "execution_count": 41,
     "metadata": {},
     "output_type": "execute_result"
    }
   ],
   "source": [
    "# Your codes here\n",
    "b = {value:key for key, value in a.items()}\n",
    "b"
   ]
  },
  {
   "cell_type": "markdown",
   "metadata": {},
   "source": [
    "### 2.3 Extract all capital from your dict and make a list of those"
   ]
  },
  {
   "cell_type": "code",
   "execution_count": 44,
   "metadata": {},
   "outputs": [
    {
     "data": {
      "text/plain": [
       "['Nairobi', 'Yaounde', 'Washington D.C.']"
      ]
     },
     "execution_count": 44,
     "metadata": {},
     "output_type": "execute_result"
    }
   ],
   "source": [
    "# Your codes here\n",
    "cap = []\n",
    "for key, value in b.items():\n",
    "    cap.append(key)\n",
    "cap"
   ]
  },
  {
   "cell_type": "markdown",
   "metadata": {},
   "source": [
    "### 2.4 Order your list of capitals alphabetically"
   ]
  },
  {
   "cell_type": "code",
   "execution_count": 45,
   "metadata": {},
   "outputs": [
    {
     "data": {
      "text/plain": [
       "['Nairobi', 'Washington D.C.', 'Yaounde']"
      ]
     },
     "execution_count": 45,
     "metadata": {},
     "output_type": "execute_result"
    }
   ],
   "source": [
    "# Your codes here\n",
    "cap = sorted(cap, key=str.lower)\n",
    "cap\n"
   ]
  },
  {
   "cell_type": "markdown",
   "metadata": {},
   "source": [
    "### 2.5 Create reverse dict\n",
    "\n",
    "Loop over the ordered capitals and print the capitals-countries in alphabetic order like\n",
    "\n",
    "Nairobi - Kenya  \n",
    "Yanoundé - Cameroon  \n",
    "..."
   ]
  },
  {
   "cell_type": "code",
   "execution_count": 39,
   "metadata": {},
   "outputs": [
    {
     "name": "stdout",
     "output_type": "stream",
     "text": [
      "Nairobi - Kenya\n",
      "Washington D.C. - USA\n",
      "Yaounde - Cameroon\n"
     ]
    }
   ],
   "source": [
    "# Your codes here\n",
    "for i in cap:\n",
    "    print(i + ' - ' + a.get(i))"
   ]
  },
  {
   "cell_type": "markdown",
   "metadata": {},
   "source": [
    "### 2.6 Make a function\n",
    "\n",
    "Create a function that achieves all the above: takes in a dict of countries-capitals, and creates a new, alphabetically ordered dict of capital-country.\n",
    "\n",
    "Demonstrate that the function works correctly using your original country-capital dict.\n",
    "\n",
    "Hint: instead of printing, add elements to the new dict."
   ]
  },
  {
   "cell_type": "code",
   "execution_count": 51,
   "metadata": {},
   "outputs": [
    {
     "data": {
      "text/plain": [
       "{'Nairobi': 'Kenya', 'Washington D.C.': 'USA', 'Yaounde': 'Cameroon'}"
      ]
     },
     "execution_count": 51,
     "metadata": {},
     "output_type": "execute_result"
    }
   ],
   "source": [
    "# Your codes here\n",
    "def order_cap(dict1):\n",
    "    dict1 = {value:key for key, value in dict1.items()}\n",
    "    sort = sorted(dict1, key=str.lower)\n",
    "    dict2 = {}\n",
    "    for i in sort:\n",
    "        dict2[i] = dict1.get(i)\n",
    "    return dict2\n",
    "order_cap(a)"
   ]
  },
  {
   "cell_type": "markdown",
   "metadata": {},
   "source": [
    "## 3.  Use modules"
   ]
  },
  {
   "cell_type": "markdown",
   "metadata": {},
   "source": [
    "### 3.1\n",
    "\n",
    "Load module `os` to find your working directory, and print all files therein.\n",
    "\n",
    "Hint: use functions `getcwd` and `listdir`"
   ]
  },
  {
   "cell_type": "code",
   "execution_count": 55,
   "metadata": {},
   "outputs": [
    {
     "data": {
      "text/plain": [
       "['lab01-test-python-installation.ipynb',\n",
       " 'lab02-python-AB.ipynb',\n",
       " '.ipynb_checkpoints',\n",
       " 'Basic Python.ipynb']"
      ]
     },
     "execution_count": 55,
     "metadata": {},
     "output_type": "execute_result"
    }
   ],
   "source": [
    "# Your codes here\n",
    "import os\n",
    "cwd = os.getcwd()\n",
    "cwd\n",
    "os.listdir(cwd)"
   ]
  }
 ],
 "metadata": {
  "kernelspec": {
   "display_name": "Python 3",
   "language": "python",
   "name": "python3"
  },
  "language_info": {
   "codemirror_mode": {
    "name": "ipython",
    "version": 3
   },
   "file_extension": ".py",
   "mimetype": "text/x-python",
   "name": "python",
   "nbconvert_exporter": "python",
   "pygments_lexer": "ipython3",
   "version": "3.7.7"
  }
 },
 "nbformat": 4,
 "nbformat_minor": 4
}
