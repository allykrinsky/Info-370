{
 "cells": [
  {
   "cell_type": "code",
   "execution_count": 1,
   "metadata": {},
   "outputs": [],
   "source": [
    "import pandas as pd\n",
    "from bs4 import BeautifulSoup\n",
    "import requests"
   ]
  },
  {
   "cell_type": "markdown",
   "metadata": {},
   "source": [
    "# whatsinthepan.com\n",
    "2. The user agent is marked as * which allows all user agents can scrape\n",
    "3. I minimized my scraping by starting small to make sure my code worked before scrapping for all of my recipes"
   ]
  },
  {
   "cell_type": "code",
   "execution_count": 302,
   "metadata": {},
   "outputs": [],
   "source": [
    "def listToString(s):  \n",
    "    \n",
    "    # initialize an empty string \n",
    "    str1 = \"\"  \n",
    "    \n",
    "    # traverse in the string   \n",
    "    for ele in s:  \n",
    "        str1 += ele + ' '  \n",
    "    \n",
    "    # return string   \n",
    "    return str1  "
   ]
  },
  {
   "cell_type": "code",
   "execution_count": 303,
   "metadata": {},
   "outputs": [],
   "source": [
    "#finds the groups of recipes\n",
    "def find_groups(url):\n",
    "    results = requests.get(url)\n",
    "    soup1 = BeautifulSoup(results.text, 'html.parser')\n",
    "    s1 = soup1.find('div', class_ = 'widget-area recipes-bottom')\n",
    "    href = []\n",
    "    for item in s1.findAll('section', class_ = 'widget featured-content featuredpost'):\n",
    "        href.append(item.p.a['href'])\n",
    "\n",
    "    return href"
   ]
  },
  {
   "cell_type": "code",
   "execution_count": 304,
   "metadata": {},
   "outputs": [],
   "source": [
    "#finds recipes within the groups\n",
    "def find_rec(url):\n",
    "    results = requests.get(url)\n",
    "    soup1 = BeautifulSoup(results.text, 'html.parser')\n",
    "    s1 = soup1.find('main', class_ = 'content')\n",
    "    href = []\n",
    "    for val in s1.findAll('article'):\n",
    "        href.append(val.header.a['href'])\n",
    "    return href"
   ]
  },
  {
   "cell_type": "code",
   "execution_count": 305,
   "metadata": {},
   "outputs": [],
   "source": [
    "def get_ingredients(url):\n",
    "    #querying ingredients\n",
    "    results2 = requests.get(url)\n",
    "    soup2 = BeautifulSoup(results2.text, 'html.parser')\n",
    "    ingredients = soup2.find('ul', class_ ='wprm-recipe-ingredients') #find block of ingredients\n",
    "    #formatting the html to a list\n",
    "    ls = []\n",
    "    name = soup2.title.text\n",
    "    for items in ingredients.findAll('li'):\n",
    "        ls.append(items.text)\n",
    "    return name, ls\n",
    "   "
   ]
  },
  {
   "cell_type": "code",
   "execution_count": 306,
   "metadata": {},
   "outputs": [],
   "source": [
    "#adding and formatting the ingredients into the dataframe\n",
    "def addTo(id, name, ls):\n",
    "    ids = []\n",
    "    name_ls = []\n",
    "    text = []\n",
    "    quantity = []\n",
    "    unit = []\n",
    "    ingredient = []\n",
    "    for val in ls:\n",
    "        ids.append(id)\n",
    "        name_ls.append(name) \n",
    "        text.append(val)\n",
    "        #taking the digits from the text as quantity\n",
    "        temp = [str(i) for i in val.split() if i.isdigit() or i in fractions] \n",
    "        quantity.append(listToString(temp))\n",
    "        #taking values designated as units from the text as units\n",
    "        temp2 = [str(i) for i in val.split() if i in measurements] \n",
    "        unit.append(listToString(temp2))\n",
    "        #taking the remaining elements from the text as ingredients\n",
    "        temp3 = [str(i) for i in val.split() if i not in measurements and not i.isdigit() and i not in fractions]\n",
    "        ingredient.append(listToString(temp3))\n",
    "\n",
    "    #adding our new rows to the df\n",
    "    df = pd.DataFrame(columns =['id', 'name', 'text', 'quantity', 'unit', 'ingredient'])\n",
    "    df['id'] = ids\n",
    "    df['name'] = name_ls\n",
    "    df['text'] = text\n",
    "    df['quantity'] = quantity\n",
    "    df['unit'] = unit\n",
    "    df['ingredient'] = ingredient\n",
    "    return(df)"
   ]
  },
  {
   "cell_type": "code",
   "execution_count": 307,
   "metadata": {},
   "outputs": [],
   "source": [
    "#creating the new df\n",
    "recipes_df = pd.DataFrame(columns =['id', 'name', 'text', 'quantity', 'unit', 'ingredient'])"
   ]
  },
  {
   "cell_type": "code",
   "execution_count": 308,
   "metadata": {},
   "outputs": [],
   "source": [
    "#USED IN DATA CLEANING\n",
    "measurements = ['cups', 'tablespoons', 'teaspoon', 'cup', 'tablespoon', 'tbsp', 'tsp']\n",
    "fractions = ['⅓', '½', '1/3', '1/2']"
   ]
  },
  {
   "cell_type": "code",
   "execution_count": 309,
   "metadata": {},
   "outputs": [
    {
     "data": {
      "text/html": [
       "<div>\n",
       "<style scoped>\n",
       "    .dataframe tbody tr th:only-of-type {\n",
       "        vertical-align: middle;\n",
       "    }\n",
       "\n",
       "    .dataframe tbody tr th {\n",
       "        vertical-align: top;\n",
       "    }\n",
       "\n",
       "    .dataframe thead th {\n",
       "        text-align: right;\n",
       "    }\n",
       "</style>\n",
       "<table border=\"1\" class=\"dataframe\">\n",
       "  <thead>\n",
       "    <tr style=\"text-align: right;\">\n",
       "      <th></th>\n",
       "      <th>id</th>\n",
       "      <th>name</th>\n",
       "      <th>text</th>\n",
       "      <th>quantity</th>\n",
       "      <th>unit</th>\n",
       "      <th>ingredient</th>\n",
       "    </tr>\n",
       "  </thead>\n",
       "  <tbody>\n",
       "    <tr>\n",
       "      <th>0</th>\n",
       "      <td>1</td>\n",
       "      <td>White Chocolate Cranberry Cookies (Gluten Free...</td>\n",
       "      <td>2 cups Blanched Almond Flour</td>\n",
       "      <td>2</td>\n",
       "      <td>cups</td>\n",
       "      <td>Blanched Almond Flour</td>\n",
       "    </tr>\n",
       "    <tr>\n",
       "      <th>1</th>\n",
       "      <td>1</td>\n",
       "      <td>White Chocolate Cranberry Cookies (Gluten Free...</td>\n",
       "      <td>½ tsp salt</td>\n",
       "      <td>½</td>\n",
       "      <td>tsp</td>\n",
       "      <td>salt</td>\n",
       "    </tr>\n",
       "    <tr>\n",
       "      <th>2</th>\n",
       "      <td>1</td>\n",
       "      <td>White Chocolate Cranberry Cookies (Gluten Free...</td>\n",
       "      <td>1 tsp baking soda</td>\n",
       "      <td>1</td>\n",
       "      <td>tsp</td>\n",
       "      <td>baking soda</td>\n",
       "    </tr>\n",
       "    <tr>\n",
       "      <th>3</th>\n",
       "      <td>1</td>\n",
       "      <td>White Chocolate Cranberry Cookies (Gluten Free...</td>\n",
       "      <td>1/3 cup butter melted</td>\n",
       "      <td>1/3</td>\n",
       "      <td>cup</td>\n",
       "      <td>butter melted</td>\n",
       "    </tr>\n",
       "    <tr>\n",
       "      <th>4</th>\n",
       "      <td>1</td>\n",
       "      <td>White Chocolate Cranberry Cookies (Gluten Free...</td>\n",
       "      <td>1/3 cup maple syrup</td>\n",
       "      <td>1/3</td>\n",
       "      <td>cup</td>\n",
       "      <td>maple syrup</td>\n",
       "    </tr>\n",
       "    <tr>\n",
       "      <th>...</th>\n",
       "      <td>...</td>\n",
       "      <td>...</td>\n",
       "      <td>...</td>\n",
       "      <td>...</td>\n",
       "      <td>...</td>\n",
       "      <td>...</td>\n",
       "    </tr>\n",
       "    <tr>\n",
       "      <th>2</th>\n",
       "      <td>350</td>\n",
       "      <td>Classic Irish Soda Bread with Whiskey Raisins ...</td>\n",
       "      <td>4  cups  all-purpose flour</td>\n",
       "      <td>4</td>\n",
       "      <td>cups</td>\n",
       "      <td>all-purpose flour</td>\n",
       "    </tr>\n",
       "    <tr>\n",
       "      <th>3</th>\n",
       "      <td>350</td>\n",
       "      <td>Classic Irish Soda Bread with Whiskey Raisins ...</td>\n",
       "      <td>1  teaspoon  baking soda</td>\n",
       "      <td>1</td>\n",
       "      <td>teaspoon</td>\n",
       "      <td>baking soda</td>\n",
       "    </tr>\n",
       "    <tr>\n",
       "      <th>4</th>\n",
       "      <td>350</td>\n",
       "      <td>Classic Irish Soda Bread with Whiskey Raisins ...</td>\n",
       "      <td>1  teaspoon  salt</td>\n",
       "      <td>1</td>\n",
       "      <td>teaspoon</td>\n",
       "      <td>salt</td>\n",
       "    </tr>\n",
       "    <tr>\n",
       "      <th>5</th>\n",
       "      <td>350</td>\n",
       "      <td>Classic Irish Soda Bread with Whiskey Raisins ...</td>\n",
       "      <td>2 tbsp turbinado sugar + more for sprinkling</td>\n",
       "      <td>2</td>\n",
       "      <td>tbsp</td>\n",
       "      <td>turbinado sugar + more for sprinkling</td>\n",
       "    </tr>\n",
       "    <tr>\n",
       "      <th>6</th>\n",
       "      <td>350</td>\n",
       "      <td>Classic Irish Soda Bread with Whiskey Raisins ...</td>\n",
       "      <td>1 1/2  cups  buttermilk</td>\n",
       "      <td>1 1/2</td>\n",
       "      <td>cups</td>\n",
       "      <td>buttermilk</td>\n",
       "    </tr>\n",
       "  </tbody>\n",
       "</table>\n",
       "<p>3577 rows × 6 columns</p>\n",
       "</div>"
      ],
      "text/plain": [
       "     id                                               name  \\\n",
       "0     1  White Chocolate Cranberry Cookies (Gluten Free...   \n",
       "1     1  White Chocolate Cranberry Cookies (Gluten Free...   \n",
       "2     1  White Chocolate Cranberry Cookies (Gluten Free...   \n",
       "3     1  White Chocolate Cranberry Cookies (Gluten Free...   \n",
       "4     1  White Chocolate Cranberry Cookies (Gluten Free...   \n",
       "..  ...                                                ...   \n",
       "2   350  Classic Irish Soda Bread with Whiskey Raisins ...   \n",
       "3   350  Classic Irish Soda Bread with Whiskey Raisins ...   \n",
       "4   350  Classic Irish Soda Bread with Whiskey Raisins ...   \n",
       "5   350  Classic Irish Soda Bread with Whiskey Raisins ...   \n",
       "6   350  Classic Irish Soda Bread with Whiskey Raisins ...   \n",
       "\n",
       "                                            text quantity       unit  \\\n",
       "0                   2 cups Blanched Almond Flour       2       cups    \n",
       "1                                     ½ tsp salt       ½        tsp    \n",
       "2                              1 tsp baking soda       1        tsp    \n",
       "3                          1/3 cup butter melted     1/3        cup    \n",
       "4                            1/3 cup maple syrup     1/3        cup    \n",
       "..                                           ...      ...        ...   \n",
       "2                     4  cups  all-purpose flour       4       cups    \n",
       "3                       1  teaspoon  baking soda       1   teaspoon    \n",
       "4                              1  teaspoon  salt       1   teaspoon    \n",
       "5   2 tbsp turbinado sugar + more for sprinkling       2       tbsp    \n",
       "6                        1 1/2  cups  buttermilk   1 1/2       cups    \n",
       "\n",
       "                                ingredient  \n",
       "0                   Blanched Almond Flour   \n",
       "1                                    salt   \n",
       "2                             baking soda   \n",
       "3                           butter melted   \n",
       "4                             maple syrup   \n",
       "..                                     ...  \n",
       "2                       all-purpose flour   \n",
       "3                             baking soda   \n",
       "4                                    salt   \n",
       "5   turbinado sugar + more for sprinkling   \n",
       "6                              buttermilk   \n",
       "\n",
       "[3577 rows x 6 columns]"
      ]
     },
     "execution_count": 309,
     "metadata": {},
     "output_type": "execute_result"
    }
   ],
   "source": [
    "#main landing url from where we are scraping\n",
    "url = 'https://whatsinthepan.com/recipes/'\n",
    "ids = 1\n",
    "for groups in find_groups(url):\n",
    "    reci = find_rec(groups)\n",
    "    for rec in reci:\n",
    "        recipes.append(rec)\n",
    "recipes #big list of recipes hrefs\n",
    "\n",
    "#scraping all the hrefs from the list we just created and adding to the dataframe\n",
    "for rec in recipes:\n",
    "    name, i = get_ingredients(rec)\n",
    "    temp = addTo(ids, name , i)\n",
    "    ids = ids + 1\n",
    "    recipes_df = pd.concat([recipes_df, temp])\n",
    "    \n",
    "recipes_df"
   ]
  },
  {
   "cell_type": "code",
   "execution_count": 310,
   "metadata": {},
   "outputs": [],
   "source": [
    "#df to csv\n",
    "recipes_df.to_csv('recipes.csv')"
   ]
  },
  {
   "cell_type": "code",
   "execution_count": 2,
   "metadata": {},
   "outputs": [],
   "source": [
    "#read back csv\n",
    "df = pd.read_csv('recipes.csv')"
   ]
  },
  {
   "cell_type": "code",
   "execution_count": 6,
   "metadata": {},
   "outputs": [],
   "source": [
    "#drop index column made when converting to csv\n",
    "df = df.drop(columns =['Unnamed: 0'])"
   ]
  },
  {
   "cell_type": "code",
   "execution_count": 7,
   "metadata": {},
   "outputs": [],
   "source": [
    "#counting how many columns have salt or sugar\n",
    "salt = 0\n",
    "sugar = 0\n",
    "for row in df['ingredient']:\n",
    "    if 'salt' in row :\n",
    "        salt = salt + 1\n",
    "    if 'sugar' in row :\n",
    "        sugar = sugar + 1"
   ]
  },
  {
   "cell_type": "code",
   "execution_count": 8,
   "metadata": {},
   "outputs": [
    {
     "data": {
      "text/plain": [
       "259"
      ]
     },
     "execution_count": 8,
     "metadata": {},
     "output_type": "execute_result"
    }
   ],
   "source": [
    "salt\n",
    "#there is more salt by count"
   ]
  },
  {
   "cell_type": "code",
   "execution_count": 9,
   "metadata": {},
   "outputs": [
    {
     "data": {
      "text/plain": [
       "119"
      ]
     },
     "execution_count": 9,
     "metadata": {},
     "output_type": "execute_result"
    }
   ],
   "source": [
    "sugar"
   ]
  },
  {
   "cell_type": "code",
   "execution_count": 84,
   "metadata": {},
   "outputs": [],
   "source": [
    "#counting teaspoons of salt and sugar\n",
    "salt = 0\n",
    "sugar = 0\n",
    "for i, row in df.iterrows():\n",
    "    if 'salt' in row['ingredient'] :\n",
    "        if row['quantity'] != 'nan':\n",
    "            try:\n",
    "                salt = salt + int(row['quantity'])\n",
    "            except:\n",
    "                #the fractions are rounded up to half for simplification\n",
    "                salt = salt + .5\n",
    "    if 'sugar' in row['ingredient'] :\n",
    "        if row['quantity'] != 'nan':\n",
    "            try:\n",
    "                sugar = sugar + int(row['quantity'])\n",
    "            except:\n",
    "                #the fractions are rounded up to half for simplification\n",
    "                sugar = sugar + .5"
   ]
  },
  {
   "cell_type": "code",
   "execution_count": 85,
   "metadata": {},
   "outputs": [
    {
     "data": {
      "text/plain": [
       "122.5"
      ]
     },
     "execution_count": 85,
     "metadata": {},
     "output_type": "execute_result"
    }
   ],
   "source": [
    "salt"
   ]
  },
  {
   "cell_type": "code",
   "execution_count": 86,
   "metadata": {},
   "outputs": [
    {
     "data": {
      "text/plain": [
       "150.5"
      ]
     },
     "execution_count": 86,
     "metadata": {},
     "output_type": "execute_result"
    }
   ],
   "source": [
    "sugar\n",
    "#there is more sugar by volume"
   ]
  },
  {
   "cell_type": "markdown",
   "metadata": {},
   "source": [
    "# I spent 4 hours on this assignment"
   ]
  },
  {
   "cell_type": "code",
   "execution_count": null,
   "metadata": {},
   "outputs": [],
   "source": []
  }
 ],
 "metadata": {
  "kernelspec": {
   "display_name": "Python 3",
   "language": "python",
   "name": "python3"
  },
  "language_info": {
   "codemirror_mode": {
    "name": "ipython",
    "version": 3
   },
   "file_extension": ".py",
   "mimetype": "text/x-python",
   "name": "python",
   "nbconvert_exporter": "python",
   "pygments_lexer": "ipython3",
   "version": "3.7.7"
  }
 },
 "nbformat": 4,
 "nbformat_minor": 4
}
